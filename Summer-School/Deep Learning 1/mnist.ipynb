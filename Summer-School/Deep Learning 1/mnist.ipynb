{
 "cells": [
  {
   "cell_type": "code",
   "execution_count": 1,
   "id": "39993fb4",
   "metadata": {},
   "outputs": [],
   "source": [
    "from torchvision import datasets, transforms\n",
    "\n",
    "# Define transformations for the dataset\n",
    "transform = transforms.Compose([\n",
    "    transforms.ToTensor(),\n",
    "    transforms.Normalize((0.5,), (0.5,))  # Normalize to mean 0.5 and std 0.5\n",
    "])\n",
    "\n",
    "# Download and load the training dataset\n",
    "train_dataset = datasets.MNIST(root='./data', train=True, download=True, transform=transform)\n",
    "\n",
    "# Download and load the test dataset\n",
    "test_dataset = datasets.MNIST(root='./data', train=False, download=True, transform=transform)"
   ]
  },
  {
   "cell_type": "code",
   "execution_count": 2,
   "id": "310d968d",
   "metadata": {},
   "outputs": [],
   "source": [
    "from torch.utils.data import DataLoader\n",
    "\n",
    "train_loader = DataLoader(train_dataset, batch_size=64, shuffle=True)\n",
    "test_loader = DataLoader(test_dataset, batch_size=64, shuffle=False)"
   ]
  },
  {
   "cell_type": "code",
   "execution_count": 3,
   "id": "2154a794",
   "metadata": {},
   "outputs": [],
   "source": [
    "import torch\n",
    "import torch.nn as nn\n",
    "import torch.optim as optim\n",
    "from torchvision import datasets, transforms\n",
    "from torch.utils.data import DataLoader\n",
    "\n",
    "# Define the neural network\n",
    "class MNISTModel(nn.Module):\n",
    "    def __init__(self):\n",
    "        super(MNISTModel, self).__init__()\n",
    "        self.fc1 = nn.Linear(28 * 28, 256)  # Input layer (flattened 28x28 image)\n",
    "        self.fc2 = nn.Linear(256, 128)     # Hidden layer\n",
    "        self.fc3 = nn.Linear(128, 10)      # Output layer (10 classes)\n",
    "        self.relu = nn.ReLU()              # Activation function\n",
    "\n",
    "    def forward(self, x):\n",
    "        x = x.view(-1, 28 * 28)           # Flatten the input\n",
    "        x = self.relu(self.fc1(x))\n",
    "        x = self.relu(self.fc2(x))\n",
    "        x = self.fc3(x)\n",
    "        return x\n"
   ]
  },
  {
   "cell_type": "code",
   "execution_count": 7,
   "id": "3819e814",
   "metadata": {},
   "outputs": [
    {
     "name": "stdout",
     "output_type": "stream",
     "text": [
      "Epoch 1, Loss: 0.34386446761853023\n",
      "Epoch 2, Loss: 0.1516591225093457\n",
      "Epoch 3, Loss: 0.11150150488454427\n",
      "Epoch 4, Loss: 0.09103843084782727\n",
      "Epoch 5, Loss: 0.07919793317182812\n",
      "Test Accuracy: 97.06%\n"
     ]
    }
   ],
   "source": [
    "# Define the training loop\n",
    "def train_model(model, train_loader, criterion, optimizer, device):\n",
    "    model.train()\n",
    "    for epoch in range(5):  # Number of epochs\n",
    "        running_loss = 0.0\n",
    "        for images, labels in train_loader:\n",
    "            images, labels = images.to(device), labels.to(device)\n",
    "\n",
    "            # Zero the parameter gradients\n",
    "            optimizer.zero_grad()\n",
    "\n",
    "            # Forward pass\n",
    "            outputs = model(images)\n",
    "            loss = criterion(outputs, labels)\n",
    "\n",
    "            # Backward pass and optimization\n",
    "            loss.backward()\n",
    "            optimizer.step()\n",
    "\n",
    "            running_loss += loss.item()\n",
    "\n",
    "        print(f\"Epoch {epoch + 1}, Loss: {running_loss / len(train_loader)}\")\n",
    "\n",
    "# Define the evaluation loop\n",
    "def evaluate_model(model, test_loader, device):\n",
    "    model.eval()\n",
    "    correct = 0\n",
    "    total = 0\n",
    "    with torch.no_grad():\n",
    "        for images, labels in test_loader:\n",
    "            images, labels = images.to(device), labels.to(device)\n",
    "            outputs = model(images)\n",
    "            _, predicted = torch.max(outputs.data, 1)\n",
    "            total += labels.size(0)\n",
    "            correct += (predicted == labels).sum().item()\n",
    "\n",
    "    print(f\"Test Accuracy: {100 * correct / total}%\")\n",
    "\n",
    "# Prepare the model, loss function, and optimizer\n",
    "device = torch.device(\"cuda\" if torch.cuda.is_available() else \"cpu\")\n",
    "model = MNISTModel().to(device)\n",
    "criterion = nn.CrossEntropyLoss()\n",
    "optimizer = optim.Adam(model.parameters(), lr=0.001)\n",
    "\n",
    "# Train and evaluate the model\n",
    "train_model(model, train_loader, criterion, optimizer, device)\n",
    "evaluate_model(model, test_loader, device)"
   ]
  },
  {
   "cell_type": "code",
   "execution_count": 8,
   "id": "db79a823",
   "metadata": {},
   "outputs": [],
   "source": [
    "import matplotlib.pyplot as plt\n",
    "import numpy as np\n",
    "\n",
    "# Function to display random samples with labels and predictions\n",
    "def show_random_samples(model, data_loader, device, num_samples=5):\n",
    "    model.eval()  # Set the model to evaluation mode\n",
    "    samples_shown = 0\n",
    "\n",
    "    with torch.no_grad():\n",
    "        for images, labels in data_loader:\n",
    "            images, labels = images.to(device), labels.to(device)\n",
    "            outputs = model(images)\n",
    "            _, predictions = torch.max(outputs, 1)\n",
    "\n",
    "            # Convert images to numpy for visualization\n",
    "            images = images.cpu().numpy()\n",
    "            labels = labels.cpu().numpy()\n",
    "            predictions = predictions.cpu().numpy()\n",
    "\n",
    "            for i in range(len(images)):\n",
    "                if samples_shown >= num_samples:\n",
    "                    return\n",
    "\n",
    "                # Display the image\n",
    "                plt.imshow(images[i].squeeze(), cmap=\"gray\")\n",
    "                plt.title(f\"Label: {labels[i]}, Prediction: {predictions[i]}\")\n",
    "                plt.axis(\"off\")\n",
    "                plt.show()\n",
    "\n",
    "                samples_shown += 1"
   ]
  },
  {
   "cell_type": "code",
   "execution_count": 9,
   "id": "f233bed6",
   "metadata": {},
   "outputs": [
    {
     "data": {
      "image/png": "[encoded data removed]",
      "text/plain": [
       "<Figure size 640x480 with 1 Axes>"
      ]
     },
     "metadata": {},
     "output_type": "display_data"
    },
    {
     "data": {
      "image/png": "[encoded data removed]",
      "text/plain": [
       "<Figure size 640x480 with 1 Axes>"
      ]
     },
     "metadata": {},
     "output_type": "display_data"
    },
    {
     "data": {
      "image/png": "[encoded data removed]",
      "text/plain": [
       "<Figure size 640x480 with 1 Axes>"
      ]
     },
     "metadata": {},
     "output_type": "display_data"
    },
    {
     "data": {
      "image/png": "[encoded data removed]",
      "text/plain": [
       "<Figure size 640x480 with 1 Axes>"
      ]
     },
     "metadata": {},
     "output_type": "display_data"
    },
    {
     "data": {
      "image/png": "[encoded data removed]",
      "text/plain": [
       "<Figure size 640x480 with 1 Axes>"
      ]
     },
     "metadata": {},
     "output_type": "display_data"
    }
   ],
   "source": [
    "show_random_samples(model, test_loader, device, num_samples=5)"
   ]
  },
  {
   "cell_type": "code",
   "execution_count": 7,
   "id": "d18a5b29",
   "metadata": {},
   "outputs": [
    {
     "name": "stdout",
     "output_type": "stream",
     "text": [
      "Epoch 1, Loss: 0.14690908981856507\n",
      "Epoch 2, Loss: 0.1469103673786751\n",
      "Epoch 3, Loss: 0.14691114822811663\n",
      "Epoch 4, Loss: 0.1469104730371219\n",
      "Epoch 5, Loss: 0.14690823432034267\n",
      "Epoch 6, Loss: 0.14690950585962104\n",
      "Epoch 7, Loss: 0.14691064433693124\n",
      "Epoch 8, Loss: 0.1469094304165352\n",
      "Epoch 9, Loss: 0.14690858192408263\n",
      "Epoch 10, Loss: 0.1469098191970447\n",
      "Test Accuracy: 12.3%\n"
     ]
    }
   ],
   "source": [
    "# Basic training loop with L1 Loss\n",
    "def basic_train_model(model, train_loader, optimizer, device):\n",
    "    model.train()\n",
    "    for epoch in range(10):  # Number of epochs\n",
    "        total_loss = 0.0\n",
    "        for images, labels in train_loader:\n",
    "            images, labels = images.to(device), labels.to(device)\n",
    "\n",
    "            # Flatten the images (for MLP models)\n",
    "            images = images.view(-1, 28 * 28)\n",
    "\n",
    "            # Zero the parameter gradients\n",
    "            optimizer.zero_grad()\n",
    "\n",
    "            # Forward pass\n",
    "            outputs = model(images.float())\n",
    "            loss = torch.nn.functional.l1_loss(outputs, torch.nn.functional.one_hot(labels, num_classes=10).float())\n",
    "\n",
    "            # Backward pass and optimization\n",
    "            loss.backward()\n",
    "            optimizer.step()\n",
    "\n",
    "            total_loss += loss.item()\n",
    "\n",
    "        print(f\"Epoch {epoch + 1}, Loss: {total_loss / len(train_loader)}\")\n",
    "\n",
    "# Basic evaluation loop\n",
    "def basic_evaluate_model(model, test_loader, device):\n",
    "    model.eval()\n",
    "    correct = 0\n",
    "    total = 0\n",
    "    with torch.no_grad():\n",
    "        for images, labels in test_loader:\n",
    "            images, labels = images.to(device), labels.to(device)\n",
    "\n",
    "            # Flatten the images (for MLP models)\n",
    "            images = images.view(-1, 28 * 28)\n",
    "\n",
    "            # Forward pass\n",
    "            outputs = model(images.float())\n",
    "            _, predicted = torch.max(outputs, 1)\n",
    "            total += labels.size(0)\n",
    "            correct += (predicted == labels).sum().item()\n",
    "\n",
    "    print(f\"Test Accuracy: {100 * correct / total}%\")\n",
    "\n",
    "# Prepare the model, optimizer, and device\n",
    "device = torch.device(\"cuda\" if torch.cuda.is_available() else \"cpu\")\n",
    "basic_model = MNISTModel().to(device)  # Replace with your model\n",
    "optimizer = torch.optim.SGD(model.parameters(), lr=0.1)  # Basic SGD optimizer\n",
    "\n",
    "# Train and evaluate the model\n",
    "basic_train_model(basic_model, train_loader, optimizer, device)\n",
    "basic_evaluate_model(basic_model, test_loader, device)"
   ]
  }
 ],
 "metadata": {
  "kernelspec": {
   "display_name": ".venv",
   "language": "python",
   "name": "python3"
  },
  "language_info": {
   "codemirror_mode": {
    "name": "ipython",
    "version": 3
   },
   "file_extension": ".py",
   "mimetype": "text/x-python",
   "name": "python",
   "nbconvert_exporter": "python",
   "pygments_lexer": "ipython3",
   "version": "3.13.3"
  }
 },
 "nbformat": 4,
 "nbformat_minor": 5
}
